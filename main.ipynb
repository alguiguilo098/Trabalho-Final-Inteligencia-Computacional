{
 "cells": [
  {
   "cell_type": "code",
   "execution_count": null,
   "metadata": {},
   "outputs": [],
   "source": [
    "from typing import Literal\n",
    "# Bib joblib\n",
    "from joblib import delayed,Parallel\n",
    "# Numpy\n",
    "import numpy as np\n",
    "# Bib skimage \n",
    "import skimage\n",
    "# Bib glob\n",
    "import glob\n",
    "# GLCM\n",
    "from DescritoresDeImagem.glcm import glcm\n",
    "# LBP\n",
    "from DescritoresDeImagem.lbp import lbp\n",
    "#LPQ\n",
    "from DescritoresDeImagem.lpq import lpq\n",
    "\n",
    "from sklearn.neighbors import KNeighborsClassifier\n",
    "\n",
    "from sklearn.svm import SVC \n"
   ]
  },
  {
   "cell_type": "code",
   "execution_count": 10,
   "metadata": {},
   "outputs": [],
   "source": [
    "def  glcmimageapply(imgpath,distances=[1,3,5],angles=np.deg2rad([0,90,180,270]))-> np.ndarray[tuple[int],np.dtype[np.float64]]:\n",
    "    \"\"\"\n",
    "    Args\n",
    "    \n",
    "    img (np.ndarray): \n",
    "        A 2D grayscale image array for which the GLCM is computed. The image \n",
    "        should be of type `np.ndarray` and must be 2-dimensional.\n",
    "            \n",
    "    distances (Union[List[int], np.ndarray]): \n",
    "        A list or array of pixel pair distances for which the GLCM is computed. \n",
    "        Default values are [1, 3, 5].\n",
    "        \n",
    "    angles (Union[List[float], np.ndarray]): \n",
    "        A list or array of angles (in radians) defining the direction for GLCM computation. \n",
    "        Default values are the radian equivalents of [0, 90, 180, 270] degrees.\n",
    "    \"\"\"\n",
    "    imgopen=skimage.io.imread(imgpath,as_gray=True) # open image in as gray \n",
    "    img_info=glcm(imgopen,distances=distances,angles=angles) # aplly glcm in image open\n",
    "          \n",
    "    return img_info \n"
   ]
  },
  {
   "cell_type": "code",
   "execution_count": 11,
   "metadata": {},
   "outputs": [],
   "source": [
    "\n",
    "\n",
    "def lpqimageapply(imgpath, winSize: int = 7,decorr: int = 1,mode: str = 'nh'):\n",
    "    \"\"\"\n",
    "    Applies the LPQ (Local Phase Quantization) method to an image.\n",
    "\n",
    "    Parameters:\n",
    "        imgpath (str): Path to the image file.\n",
    "        winSize (int, optional): Window size for LPQ. Default is 7.\n",
    "        decorr (int, optional): Decorrelation parameter for LPQ. Default is 1.\n",
    "        mode (str, optional): Mode for LPQ ('nh' for normalized histogram). Default is 'nh'.\n",
    "\n",
    "    Returns:\n",
    "        np.ndarray: Feature vector or matrix produced by the LPQ method.\n",
    "    \"\"\"\n",
    "    imgopen=skimage.io.imread(imgpath,as_gray=True) # open image in as gray \n",
    "    img_info=lpq(imgopen,winSize=winSize,mode=mode,decorr=decorr) # aplly glcm in image open\n",
    "          \n",
    "    return img_info \n"
   ]
  },
  {
   "cell_type": "code",
   "execution_count": 12,
   "metadata": {},
   "outputs": [],
   "source": [
    "def lbpimageaplly(imgpath,P: int = 8,R: int = 2,method: Literal['default', 'ror', 'uniform', 'nri_uniform', 'var'] = 'nri_uniform'):\n",
    "    \"\"\"\n",
    "    Applies the LBP (Local Binary Patterns) method to an image.\n",
    "\n",
    "    Parameters:\n",
    "        imgpath (str): Path to the image file.\n",
    "        P (int, optional): Number of circularly symmetric neighbor points. Default is 8.\n",
    "        R (int, optional): Radius of the circle. Default is 2.\n",
    "        method (Literal, optional): Method to extract LBP. Options include:\n",
    "            - 'default': Basic LBP.\n",
    "            - 'ror': Rotation invariant.\n",
    "            - 'uniform': Uniform patterns only.\n",
    "            - 'nri_uniform': Non-rotation-invariant uniform patterns.\n",
    "            - 'var': Variance-based patterns. Default is 'nri_uniform'.\n",
    "\n",
    "    Returns:\n",
    "        np.ndarray: The resulting LBP image or feature vector.\n",
    "    \"\"\"\n",
    "    \n",
    "    imgopen=skimage.io.imread(imgpath,as_gray=True) # open image in as gray \n",
    "    \n",
    "    img_info=lbp(image=imgopen,P=P,R=R,method=method) # aplly glcm in image open\n",
    "          \n",
    "    return img_info\n"
   ]
  },
  {
   "cell_type": "code",
   "execution_count": 13,
   "metadata": {},
   "outputs": [],
   "source": [
    "def writendarry(filename:str,array:np.ndarray,delimiter=\"|\")->None:\n",
    "    with open(file=filename,mode=\"w\") as file:\n",
    "        for i in array:\n",
    "            file.writelines(np.array2string(i,separator=\",\"))\n",
    "            file.write(delimiter)\n",
    "            "
   ]
  },
  {
   "cell_type": "code",
   "execution_count": 14,
   "metadata": {},
   "outputs": [],
   "source": [
    "def readfilendarray(filename:str,delimiter=\"|\")->np.ndarray:\n",
    "    array=[]\n",
    "    with open(file=filename,mode=\"r\") as f:\n",
    "        lines=f.read().split(delimiter)\n",
    "        for datastr in lines:\n",
    "            data=datastr.replace(\"\\n\",\"\").replace(\" \",\"\").strip(\"[]\").split(\",\")\n",
    "            arr=[float(i) for i in data if i.strip()]\n",
    "            array.append(arr)\n",
    "        array.pop()\n",
    "        return np.array(array)\n",
    "            \n",
    "            "
   ]
  },
  {
   "cell_type": "code",
   "execution_count": 15,
   "metadata": {},
   "outputs": [],
   "source": [
    "# Number Threads\n",
    "JOBS=12\n",
    "# Use descriptor\n",
    "DESCRIPTOR=\"LBP\" #LPQ,LBP,GLCM\n",
    "#Run Cell\n",
    "RUN=True\n",
    " \n",
    "pathimageitetor=glob.glob(\"BaseDeDados/*.bmp\")\n",
    "\n",
    "if DESCRIPTOR==\"LPQ\" and RUN: \n",
    "    datasetlpq=Parallel(n_jobs=JOBS)(delayed(lbpimageaplly)(i) for i in pathimageitetor)\n",
    "    writendarry(filename=\"DadosExtraidos/X_TreinoLPQ.txt\",array=datasetlpq)\n",
    "elif DESCRIPTOR==\"LBP\" and RUN:\n",
    "    datasetlbq=Parallel(n_jobs=JOBS)(delayed(lpqimageapply)(i) for i in pathimageitetor)\n",
    "    writendarry(filename=\"DadosExtraidos/X_TreinoLBP.txt\",array=datasetlbq)\n",
    "elif DESCRIPTOR==\"GLCM\" and RUN:\n",
    "    datasetlbq=Parallel(n_jobs=JOBS)(delayed(glcmimageapply)(i) for i in pathimageitetor)\n",
    "    writendarry(filename=\"DadosExtraidos/X_TreinoGLCM.txt\",array=datasetlbq)\n",
    "if RUN:\n",
    "    y_result=[]\n",
    "    for i in pathimageitetor:\n",
    "        y_result.append(i.replace(\"BaseDeDados/\",\"\").replace(\".bmp\",\"\"))\n",
    "    writendarry(\"DadosExtraidos/Y_Resultado.txt\",np.array(y_result))\n"
   ]
  },
  {
   "cell_type": "code",
   "execution_count": 16,
   "metadata": {},
   "outputs": [],
   "source": [
    "\n",
    "X_data=readfilendarray(filename=\"DadosExtraidos/X_TreinoGLCM.txt\")\n",
    "\n"
   ]
  }
 ],
 "metadata": {
  "kernelspec": {
   "display_name": "teste",
   "language": "python",
   "name": "python3"
  },
  "language_info": {
   "codemirror_mode": {
    "name": "ipython",
    "version": 3
   },
   "file_extension": ".py",
   "mimetype": "text/x-python",
   "name": "python",
   "nbconvert_exporter": "python",
   "pygments_lexer": "ipython3",
   "version": "3.10.12"
  }
 },
 "nbformat": 4,
 "nbformat_minor": 2
}
