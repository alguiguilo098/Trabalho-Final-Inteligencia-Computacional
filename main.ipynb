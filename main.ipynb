{
 "cells": [
  {
   "cell_type": "code",
   "execution_count": 107,
   "metadata": {},
   "outputs": [],
   "source": [
    "from typing import Literal\n",
    "\n",
    "# Bib joblib, Numpy,skimage,glob,re\n",
    "from joblib import delayed,Parallel\n",
    "import numpy as np\n",
    "import skimage\n",
    "import glob\n",
    "import re\n",
    "\n",
    "# GLCM,LBP,LPQ\n",
    "from DescritoresDeImagem.glcm import glcm\n",
    "from DescritoresDeImagem.lbp import lbp\n",
    "from DescritoresDeImagem.lpq import lpq\n",
    "\n",
    "# Standart Scale, SVC and KNeighborsClassifier\n",
    "from sklearn.preprocessing import StandardScaler\n",
    "from sklearn.svm import SVC\n",
    "from sklearn.model_selection import GridSearchCV\n",
    "from sklearn.pipeline import Pipeline\n",
    "from sklearn.metrics import classification_report , accuracy_score, f1_score, recall_score, precision_score\n",
    "from sklearn.metrics import ConfusionMatrixDisplay\n",
    "from matplotlib import pyplot as plt"
   ]
  },
  {
   "cell_type": "code",
   "execution_count": 108,
   "metadata": {},
   "outputs": [],
   "source": [
    "def  glcmimageapply(imgpath,distances=[1,3,5],angles=np.deg2rad([0,90,180,270]))-> np.ndarray[tuple[int],np.dtype[np.float64]]:\n",
    "    \"\"\"\n",
    "    Args\n",
    "    \n",
    "    img (np.ndarray): \n",
    "        A 2D grayscale image array for which the GLCM is computed. The image \n",
    "        should be of type `np.ndarray` and must be 2-dimensional.\n",
    "            \n",
    "    distances (Union[List[int], np.ndarray]): \n",
    "        A list or array of pixel pair distances for which the GLCM is computed. \n",
    "        Default values are [1, 3, 5].\n",
    "        \n",
    "    angles (Union[List[float], np.ndarray]): \n",
    "        A list or array of angles (in radians) defining the direction for GLCM computation. \n",
    "        Default values are the radian equivalents of [0, 90, 180, 270] degrees.\n",
    "    \"\"\"\n",
    "    imgopen=skimage.io.imread(imgpath,as_gray=True) # open image in as gray \n",
    "    img_info=glcm(imgopen,distances=distances,angles=angles) # aplly glcm in image open\n",
    "          \n",
    "    return img_info \n"
   ]
  },
  {
   "cell_type": "code",
   "execution_count": 109,
   "metadata": {},
   "outputs": [],
   "source": [
    "\n",
    "\n",
    "def lpqimageapply(imgpath, winSize: int = 7,decorr: int = 1,mode: str = 'nh'):\n",
    "    \"\"\"\n",
    "    Applies the LPQ (Local Phase Quantization) method to an image.\n",
    "\n",
    "    Parameters:\n",
    "        imgpath (str): Path to the image file.\n",
    "        winSize (int, optional): Window size for LPQ. Default is 7.\n",
    "        decorr (int, optional): Decorrelation parameter for LPQ. Default is 1.\n",
    "        mode (str, optional): Mode for LPQ ('nh' for normalized histogram). Default is 'nh'.\n",
    "\n",
    "    Returns:\n",
    "        np.ndarray: Feature vector or matrix produced by the LPQ method.\n",
    "    \"\"\"\n",
    "    imgopen=skimage.io.imread(imgpath,as_gray=True) # open image in as gray \n",
    "    img_info=lpq(imgopen,winSize=winSize,mode=mode,decorr=decorr) # aplly glcm in image open\n",
    "          \n",
    "    return img_info \n"
   ]
  },
  {
   "cell_type": "code",
   "execution_count": 110,
   "metadata": {},
   "outputs": [],
   "source": [
    "def lbpimageaplly(imgpath,P: int = 8,R: int = 2,method: Literal['default', 'ror', 'uniform', 'nri_uniform', 'var'] = 'nri_uniform'):\n",
    "    \"\"\"\n",
    "    Applies the LBP (Local Binary Patterns) method to an image.\n",
    "\n",
    "    Parameters:\n",
    "        imgpath (str): Path to the image file.\n",
    "        P (int, optional): Number of circularly symmetric neighbor points. Default is 8.\n",
    "        R (int, optional): Radius of the circle. Default is 2.\n",
    "        method (Literal, optional): Method to extract LBP. Options include:\n",
    "            - 'default': Basic LBP.\n",
    "            - 'ror': Rotation invariant.\n",
    "            - 'uniform': Uniform patterns only.\n",
    "            - 'nri_uniform': Non-rotation-invariant uniform patterns.\n",
    "            - 'var': Variance-based patterns. Default is 'nri_uniform'.\n",
    "\n",
    "    Returns:\n",
    "        np.ndarray: The resulting LBP image or feature vector.\n",
    "    \"\"\"\n",
    "    \n",
    "    imgopen=skimage.io.imread(imgpath,as_gray=True) # open image in as gray \n",
    "    \n",
    "    img_info=lbp(image=imgopen,P=P,R=R,method=method) # aplly glcm in image open\n",
    "          \n",
    "    return img_info\n"
   ]
  },
  {
   "cell_type": "code",
   "execution_count": 111,
   "metadata": {},
   "outputs": [],
   "source": [
    "def writendarry(filename:str,array:np.ndarray,delimiter=\"|\")->None:\n",
    "    \"\"\"\n",
    "    Parameters:\n",
    "        filename (str):Path to the image file.\n",
    "        array(np.ndarray):Data write file.\n",
    "        delimiter(str): string to delimiter  data.\n",
    "    \"\"\"\n",
    "    with open(file=filename,mode=\"w\") as file:\n",
    "        for i in array:\n",
    "            file.writelines(np.array2string(i,separator=\",\"))\n",
    "            file.write(delimiter)\n",
    "            "
   ]
  },
  {
   "cell_type": "code",
   "execution_count": 112,
   "metadata": {},
   "outputs": [],
   "source": [
    "def readfilendarray(filename:str,delimiter=\"|\",data=\"f\")->np.ndarray:\n",
    "    \"\"\"\n",
    "    Applies the LBP (Local Binary Patterns) method to an image.\n",
    "\n",
    "    Parameters:\n",
    "        filename(str): Path to the image file.\n",
    "        delimiter(str): string to delimiter data.\n",
    "        data: type of data in file (s(str) or f(float))        \n",
    "    Returns:\n",
    "        np.ndarray: the feature vector.\n",
    "    \"\"\"\n",
    "    if data==\"f\":\n",
    "        array=[]\n",
    "        with open(file=filename,mode=\"r\") as f:\n",
    "            lines=f.read().split(delimiter)\n",
    "            for datastr in lines:\n",
    "                data=datastr.replace(\"\\n\",\"\").replace(\" \",\"\").strip(\"[]\").split(\",\")\n",
    "                arr=[float(i) for i in data if i.strip()]\n",
    "                array.append(arr)\n",
    "            array.pop()\n",
    "            return np.array(array)\n",
    "    elif data==\"s\":\n",
    "        with open(file=filename,mode=\"r\") as f:\n",
    "            lines=f.read().replace(\"'\",\"\").split(delimiter)\n",
    "            lines.pop()\n",
    "            return np.array(lines)\n",
    "            "
   ]
  },
  {
   "cell_type": "code",
   "execution_count": 113,
   "metadata": {},
   "outputs": [],
   "source": [
    "def extractimagesdescriptor(filename:str,descriptor:Literal[\"LPQ\",\"LBP\",\"GLCM\"] = 'GLCM',jobs_n:int=-1):\n",
    "    pathimageitetor=glob.glob(\"BaseDeDados/*.bmp\")\n",
    "    \n",
    "    if descriptor==\"LPQ\":\n",
    "        def lpq_function(method:Literal['default', 'ror', 'uniform', 'nri_uniform', 'var'] = 'nri_uniform',P:int = 8,R:int=2): \n",
    "            datasetlpq=Parallel(n_jobs=jobs_n)(delayed(lbpimageaplly)(i,P,R,method) for i in pathimageitetor)\n",
    "            writendarry(filename=filename,array=datasetlpq)\n",
    "        y_result=[]\n",
    "        for i in pathimageitetor:\n",
    "            y_result.append(re.sub(r'\\d','',i.replace(\"BaseDeDados/\",\"\").replace(\".bmp\",\"\")))\n",
    "        writendarry(\"DadosExtraidos/Y_Resultado.txt\",np.array(y_result))\n",
    "        return lpq_function\n",
    "    elif descriptor==\"LBP\":\n",
    "        def lbp_function(winSize: int = 7,decorr: int = 1,mode: str = 'nh'):\n",
    "            datasetlbq=Parallel(n_jobs=jobs_n)(delayed(lpqimageapply)(i,winSize,decorr,mode) for i in pathimageitetor)\n",
    "            writendarry(filename=filename,array=datasetlbq)\n",
    "        y_result=[]\n",
    "        for i in pathimageitetor:\n",
    "            y_result.append(re.sub(r'\\d','',i.replace(\"BaseDeDados/\",\"\").replace(\".bmp\",\"\")))\n",
    "        writendarry(\"DadosExtraidos/Y_Resultado.txt\",np.array(y_result))\n",
    "        return lbp_function\n",
    "    elif descriptor==\"GLCM\":\n",
    "        def glcm_function(distances= [1, 3, 5],angles= np.deg2rad([0, 90, 180, 270])):\n",
    "            datasetlbq=Parallel(n_jobs=jobs_n)(delayed(glcmimageapply)(i,distances,angles) for i in pathimageitetor)\n",
    "            writendarry(filename=filename,array=datasetlbq)\n",
    "        y_result=[]\n",
    "        for i in pathimageitetor:\n",
    "            y_result.append(re.sub(r'\\d','',i.replace(\"BaseDeDados/\",\"\").replace(\".bmp\",\"\")))\n",
    "            writendarry(\"DadosExtraidos/Y_Resultado.txt\",np.array(y_result))\n",
    "        return glcm_function\n",
    "    \n",
    "   \n"
   ]
  },
  {
   "cell_type": "code",
   "execution_count": 114,
   "metadata": {},
   "outputs": [],
   "source": [
    "distances=[2,4,8,16,32,64,70]\n",
    "angles=np.deg2rad([90,180,270])\n",
    "\n",
    "DESCRIPTOR=\"LBP\"\n",
    "RUN=False\n",
    "\n",
    "if RUN:\n",
    "    function_glcm=extractimagesdescriptor(\"DadosExtraidos/X_TreinoGLCM.txt\",descriptor=\"GLCM\")\n",
    "    function_glcm(angles=angles,distances=distances)\n",
    "\n",
    "    function_lpq=extractimagesdescriptor(filename=\"DadosExtraidos/X_TreinoLPQ.txt\",descriptor=\"LPQ\")\n",
    "    function_lpq()\n",
    "\n",
    "    function_lbp=extractimagesdescriptor(filename=\"DadosExtraidos/X_TreinoLBP.txt\",descriptor=\"LBP\")\n",
    "    function_lbp()\n",
    "\n",
    "X_lbp=readfilendarray(filename=\"DadosExtraidos/X_TreinoLBP.txt\")\n",
    "\n",
    "X_glcm=readfilendarray(filename=\"DadosExtraidos/X_TreinoGLCM.txt\")\n",
    "\n",
    "X_lpq=readfilendarray(filename=\"DadosExtraidos/X_TreinoLPQ.txt\")\n",
    "\n",
    "y=readfilendarray(filename=\"DadosExtraidos/Y_Resultado.txt\",data=\"s\")\n"
   ]
  },
  {
   "cell_type": "code",
   "execution_count": 115,
   "metadata": {},
   "outputs": [],
   "source": [
    "CVPARTS=5 # number of CV parts\n",
    "\n",
    "pipe=Pipeline(steps=[(\"scalar\",StandardScaler()),\n",
    "                     (\"model\",SVC(kernel=\"rbf\"))]) \n",
    "parameters={\n",
    "    \"model__C\":[1000,1000,10000],\n",
    "    \"model__gamma\":[\"auto\",\"scale\"]\n",
    "}\n",
    "\n",
    "svm=GridSearchCV(estimator=pipe,\n",
    "                    param_grid=parameters,\n",
    "                    scoring=\"f1_macro\",\n",
    "                    cv=CVPARTS,n_jobs=-1)"
   ]
  },
  {
   "cell_type": "code",
   "execution_count": 116,
   "metadata": {},
   "outputs": [],
   "source": [
    "if DESCRIPTOR==\"GLCM\":\n",
    "    svm.fit(X=X_glcm,y=y)\n",
    "elif DESCRIPTOR==\"LBP\":\n",
    "    svm.fit(X=X_lbp,y=y)\n",
    "elif DESCRIPTOR==\"LPQ\":\n",
    "    svm.fit(X=X_lpq,y=y)"
   ]
  },
  {
   "cell_type": "code",
   "execution_count": 117,
   "metadata": {},
   "outputs": [],
   "source": [
    "if DESCRIPTOR==\"GLCM\":\n",
    "    ypred=svm.predict(X=X_glcm)\n",
    "elif DESCRIPTOR==\"LBP\":\n",
    "    ypred=svm.predict(X=X_lbp)\n",
    "elif DESCRIPTOR==\"LPQ\":\n",
    "    ypred=svm.predict(X=X_lpq)"
   ]
  },
  {
   "cell_type": "code",
   "execution_count": 118,
   "metadata": {},
   "outputs": [
    {
     "data": {
      "image/png": "[encoded data removed]",
      "text/plain": [
       "<Figure size 640x480 with 1 Axes>"
      ]
     },
     "metadata": {},
     "output_type": "display_data"
    }
   ],
   "source": [
    "metrics=[accuracy_score(y_true=y,y_pred=ypred)*100,\n",
    "         precision_score(y_true=y,y_pred=ypred,average='macro')*100,\n",
    "         f1_score(y_true=y,y_pred=ypred,average='macro')*100,\n",
    "         recall_score(y_true=y,y_pred=y,average='macro')*100]\n",
    "\n",
    "label=[\"accuracy\",\"precision\",\"f1\",\"recall\"]\n",
    "\n",
    "plt.bar(x=label,height=metrics)\n",
    "\n",
    "plt.xlabel(\"Metrics\")\n",
    "plt.ylabel(\"%\")\n",
    "plt.title(DESCRIPTOR)\n",
    "plt.show()"
   ]
  },
  {
   "cell_type": "code",
   "execution_count": 119,
   "metadata": {},
   "outputs": [
    {
     "name": "stdout",
     "output_type": "stream",
     "text": [
      "              precision    recall  f1-score   support\n",
      "\n",
      "           a       1.00      1.00      1.00       250\n",
      "          ad       1.00      1.00      1.00       250\n",
      "           d       1.00      1.00      1.00       250\n",
      "           f       1.00      1.00      1.00       250\n",
      "           j       1.00      1.00      1.00       250\n",
      "          jd       1.00      1.00      1.00       250\n",
      "          jt       1.00      1.00      1.00       250\n",
      "           m       1.00      1.00      1.00       250\n",
      "          md       1.00      1.00      1.00       250\n",
      "           n       1.00      1.00      1.00       250\n",
      "           o       1.00      1.00      1.00       250\n",
      "           s       1.00      1.00      1.00       250\n",
      "\n",
      "    accuracy                           1.00      3000\n",
      "   macro avg       1.00      1.00      1.00      3000\n",
      "weighted avg       1.00      1.00      1.00      3000\n",
      "\n"
     ]
    }
   ],
   "source": [
    "print(classification_report(y,y_pred=ypred))\n",
    "\n"
   ]
  },
  {
   "cell_type": "code",
   "execution_count": 121,
   "metadata": {},
   "outputs": [
    {
     "data": {
      "image/png": "[encoded data removed]",
      "text/plain": [
       "<Figure size 640x480 with 2 Axes>"
      ]
     },
     "metadata": {},
     "output_type": "display_data"
    }
   ],
   "source": [
    "#Confusion Matrix\n",
    "\n",
    "ConfusionMatrixDisplay.from_predictions(y,ypred)\n",
    "\n",
    "plt.title(\"Modelo SVM\"+\" \"+\"(\"+DESCRIPTOR+\")\")\n",
    "\n",
    "plt.xlabel(\"Mês Previsto\")\n",
    "\n",
    "plt.ylabel(\"Mês Verdadeiro\")\n",
    "\n",
    "plt.show()\n",
    "\n"
   ]
  }
 ],
 "metadata": {
  "kernelspec": {
   "display_name": "teste",
   "language": "python",
   "name": "python3"
  },
  "language_info": {
   "codemirror_mode": {
    "name": "ipython",
    "version": 3
   },
   "file_extension": ".py",
   "mimetype": "text/x-python",
   "name": "python",
   "nbconvert_exporter": "python",
   "pygments_lexer": "ipython3",
   "version": "3.10.12"
  }
 },
 "nbformat": 4,
 "nbformat_minor": 2
}
