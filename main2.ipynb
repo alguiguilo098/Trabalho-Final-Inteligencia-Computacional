{
 "cells": [
  {
   "cell_type": "code",
   "execution_count": 83,
   "metadata": {},
   "outputs": [],
   "source": [
    "from DescritoresDeImagem.readwritendarray import extractimagesdescriptor, readfilendarray\n",
    "\n",
    "# Bib joblib, Numpy,skimage,glob,re\n",
    "import numpy as np\n",
    "\n",
    "\n",
    "from sklearn.metrics import classification_report , accuracy_score, f1_score, recall_score, precision_score\n",
    "from sklearn.metrics import ConfusionMatrixDisplay\n",
    "from matplotlib import pyplot as plt\n",
    "\n",
    "import pickle"
   ]
  },
  {
   "cell_type": "code",
   "execution_count": null,
   "metadata": {},
   "outputs": [
    {
     "name": "stdout",
     "output_type": "stream",
     "text": [
      "FUNCTION GLCM\n",
      "FUNCTION LPQ\n",
      "FUNCTION LBP\n"
     ]
    }
   ],
   "source": [
    "#GLCM\n",
    "\n",
    "distances=[2,4,8,16,32,64,128]\n",
    "angles=np.deg2rad([90,180,270])\n",
    "\n",
    "\n",
    "#LBP\n",
    "Winsize=15\n",
    "decorr=1\n",
    "\n",
    "RUN=True\n",
    "\n",
    "if RUN:\n",
    "    function_glcm=extractimagesdescriptor(\"DadosExtraidos/Y_Resultado2.txt\",\"DadosExtraidos/X_TesteGLCM.txt\",\"BaseDeDados2/*.bmp\",\"GLCM\",)\n",
    "    function_glcm(angles=angles,distances=distances)\n",
    "\n",
    "    function_lpq=extractimagesdescriptor(file=\"DadosExtraidos/Y_Resultado2.txt\",filename=\"DadosExtraidos/X_TesteLPQ.txt\",pathimg=\"BaseDeDados2/*.bmp\",descriptor=\"LPQ\")\n",
    "    function_lpq(P=15,R=6)\n",
    "\n",
    "    function_lbp=extractimagesdescriptor(file=\"DadosExtraidos/Y_Resultado2.txt\",filename=\"DadosExtraidos/X_TesteLBP.txt\",pathimg=\"BaseDeDados2/*.bmp\",descriptor=\"LBP\")\n",
    "    function_lbp(winSize=Winsize,decorr=decorr)\n",
    "\n",
    "X_lbp=readfilendarray(filename=\"DadosExtraidos/X_TesteLBP.txt\")\n",
    "\n",
    "X_glcm=readfilendarray(filename=\"DadosExtraidos/X_TesteGLCM.txt\")\n",
    "\n",
    "X_lpq=readfilendarray(filename=\"DadosExtraidos/X_TesteLPQ.txt\")\n",
    "\n",
    "x_lpq_lpq=np.concatenate((X_lpq,X_lbp),axis=1)\n",
    "\n",
    "y=readfilendarray(filename=\"DadosExtraidos/Y_Resultado2.txt\",data=\"s\")"
   ]
  },
  {
   "cell_type": "code",
   "execution_count": 85,
   "metadata": {},
   "outputs": [],
   "source": [
    "modelsvmlbp=None\n",
    "modelsvmglcm=None\n",
    "modelsvmlpq=None\n",
    "\n",
    "with open(\"Models/svm_LBP_LPQ.pkl\",mode=\"rb\") as svmglcm:\n",
    "    modelsvmglcm=pickle.load(svmglcm)\n",
    "with open(\"Models/svm_LBP.pkl\",mode=\"rb\") as svmglcm:\n",
    "    modelsvmlbp=pickle.load(svmglcm)\n",
    "with open(\"Models/svm_LPQ.pkl\",mode=\"rb\") as svmglcm:\n",
    "    modelsvmlpq=pickle.load(svmglcm)\n"
   ]
  },
  {
   "cell_type": "code",
   "execution_count": 86,
   "metadata": {},
   "outputs": [],
   "source": [
    "ypredlpqlbp=modelsvmglcm.predict(x_lpq_lpq)\n",
    "ypredlpq=modelsvmlpq.predict(X_lpq)\n",
    "ypredlbp=modelsvmlbp.predict(X_lbp)"
   ]
  },
  {
   "cell_type": "code",
   "execution_count": 87,
   "metadata": {},
   "outputs": [
    {
     "name": "stdout",
     "output_type": "stream",
     "text": [
      "\tSVM (LBP) \n",
      "\n",
      "              precision    recall  f1-score   support\n",
      "\n",
      "           a       0.68      0.75      0.72       250\n",
      "          ad       0.82      0.78      0.80       250\n",
      "           d       0.57      0.70      0.63       250\n",
      "           f       0.71      0.73      0.72       250\n",
      "           j       0.57      0.46      0.51       250\n",
      "          jd       0.64      0.43      0.51       250\n",
      "          jt       0.72      0.60      0.66       250\n",
      "           m       0.78      0.72      0.75       250\n",
      "          md       0.59      0.82      0.69       250\n",
      "           n       0.70      0.70      0.70       250\n",
      "           o       0.67      0.67      0.67       250\n",
      "           s       0.61      0.64      0.63       250\n",
      "\n",
      "    accuracy                           0.67      3000\n",
      "   macro avg       0.67      0.67      0.67      3000\n",
      "weighted avg       0.67      0.67      0.67      3000\n",
      "\n",
      "\n"
     ]
    }
   ],
   "source": [
    "print(\"\\tSVM (LBP) \\n\")\n",
    "print(classification_report(y,y_pred=ypredlbp)+\"\\n\")"
   ]
  },
  {
   "cell_type": "code",
   "execution_count": 92,
   "metadata": {},
   "outputs": [
    {
     "name": "stdout",
     "output_type": "stream",
     "text": [
      "\tSVM (LPQ) \n",
      "\n",
      "              precision    recall  f1-score   support\n",
      "\n",
      "           a       0.68      0.75      0.72       250\n",
      "          ad       0.82      0.78      0.80       250\n",
      "           d       0.57      0.70      0.63       250\n",
      "           f       0.71      0.73      0.72       250\n",
      "           j       0.57      0.46      0.51       250\n",
      "          jd       0.64      0.43      0.51       250\n",
      "          jt       0.72      0.60      0.66       250\n",
      "           m       0.78      0.72      0.75       250\n",
      "          md       0.59      0.82      0.69       250\n",
      "           n       0.70      0.70      0.70       250\n",
      "           o       0.67      0.67      0.67       250\n",
      "           s       0.61      0.64      0.63       250\n",
      "\n",
      "    accuracy                           0.67      3000\n",
      "   macro avg       0.67      0.67      0.67      3000\n",
      "weighted avg       0.67      0.67      0.67      3000\n",
      "\n",
      "\n"
     ]
    }
   ],
   "source": [
    "print(\"\\tSVM (LPQ) \\n\")\n",
    "print(classification_report(y,y_pred=ypredlbp)+\"\\n\")"
   ]
  },
  {
   "cell_type": "code",
   "execution_count": null,
   "metadata": {},
   "outputs": [
    {
     "name": "stdout",
     "output_type": "stream",
     "text": [
      "\tSVM (LBP + LPQ) \n",
      "\n",
      "              precision    recall  f1-score   support\n",
      "\n",
      "           a       0.76      0.80      0.78       250\n",
      "          ad       0.86      0.84      0.85       250\n",
      "           d       0.69      0.79      0.74       250\n",
      "           f       0.79      0.77      0.78       250\n",
      "           j       0.69      0.57      0.62       250\n",
      "          jd       0.73      0.53      0.61       250\n",
      "          jt       0.76      0.64      0.69       250\n",
      "           m       0.79      0.78      0.78       250\n",
      "          md       0.60      0.86      0.71       250\n",
      "           n       0.86      0.80      0.83       250\n",
      "           o       0.72      0.75      0.74       250\n",
      "           s       0.67      0.72      0.70       250\n",
      "\n",
      "    accuracy                           0.74      3000\n",
      "   macro avg       0.74      0.74      0.74      3000\n",
      "weighted avg       0.74      0.74      0.74      3000\n",
      "\n",
      "\n"
     ]
    }
   ],
   "source": [
    "print(\"\\tSVM (LBP + LPQ) \\n\")\n",
    "print(classification_report(y,y_pred=ypredlpqlbp)+\"\\n\")"
   ]
  }
 ],
 "metadata": {
  "kernelspec": {
   "display_name": "Python 3",
   "language": "python",
   "name": "python3"
  },
  "language_info": {
   "codemirror_mode": {
    "name": "ipython",
    "version": 3
   },
   "file_extension": ".py",
   "mimetype": "text/x-python",
   "name": "python",
   "nbconvert_exporter": "python",
   "pygments_lexer": "ipython3",
   "version": "3.10.12"
  }
 },
 "nbformat": 4,
 "nbformat_minor": 2
}
