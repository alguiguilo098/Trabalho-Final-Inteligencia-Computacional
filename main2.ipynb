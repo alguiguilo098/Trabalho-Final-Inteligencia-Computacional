{
 "cells": [
  {
   "cell_type": "code",
   "execution_count": 15,
   "metadata": {},
   "outputs": [],
   "source": [
    "from DescritoresDeImagem.readwritendarray import extractimagesdescriptor, readfilendarray\n",
    "\n",
    "# Bib joblib, Numpy,skimage,glob,re\n",
    "import numpy as np\n",
    "\n",
    "\n",
    "from sklearn.metrics import classification_report , accuracy_score, f1_score, recall_score, precision_score\n",
    "from sklearn.metrics import ConfusionMatrixDisplay\n",
    "from matplotlib import pyplot as plt\n",
    "\n",
    "import pickle"
   ]
  },
  {
   "cell_type": "code",
   "execution_count": 16,
   "metadata": {},
   "outputs": [
    {
     "name": "stdout",
     "output_type": "stream",
     "text": [
      "FUNCTION GLCM\n",
      "FUNCTION LPQ\n",
      "FUNCTION LBP\n"
     ]
    }
   ],
   "source": [
    "#GLCM\n",
    "\n",
    "distances=[2,4,8,16,32,64,128,256]\n",
    "angles=np.deg2rad([0,45,90,180,270])\n",
    "\n",
    "#LBP\n",
    "Winsize=18\n",
    "decorr=1\n",
    "\n",
    "RUN=True\n",
    "\n",
    "if RUN:\n",
    "    function_glcm=extractimagesdescriptor(\"DadosExtraidos/Y_Resultado2.txt\",\"DadosExtraidos/X_TesteGLCM.txt\",\"BaseDeDados2/*.bmp\",\"GLCM\",)\n",
    "    function_glcm(angles=angles,distances=distances)\n",
    "\n",
    "    function_lpq=extractimagesdescriptor(file=\"DadosExtraidos/Y_Resultado2.txt\",filename=\"DadosExtraidos/X_TesteLPQ.txt\",pathimg=\"BaseDeDados2/*.bmp\",descriptor=\"LPQ\")\n",
    "    function_lpq(P=18,R=6)\n",
    "\n",
    "    function_lbp=extractimagesdescriptor(file=\"DadosExtraidos/Y_Resultado2.txt\",filename=\"DadosExtraidos/X_TesteLBP.txt\",pathimg=\"BaseDeDados2/*.bmp\",descriptor=\"LBP\")\n",
    "    function_lbp(winSize=Winsize,decorr=decorr)\n",
    "\n",
    "X_lbp=readfilendarray(filename=\"DadosExtraidos/X_TesteLBP.txt\")\n",
    "\n",
    "X_glcm=readfilendarray(filename=\"DadosExtraidos/X_TesteGLCM.txt\")\n",
    "\n",
    "X_lpq=readfilendarray(filename=\"DadosExtraidos/X_TesteLPQ.txt\")\n",
    "\n",
    "x_lpq_lpq=np.concatenate((X_lpq,X_lbp,X_glcm),axis=1)\n",
    "\n",
    "y=readfilendarray(filename=\"DadosExtraidos/Y_Resultado2.txt\",data=\"s\")"
   ]
  },
  {
   "cell_type": "code",
   "execution_count": 17,
   "metadata": {},
   "outputs": [],
   "source": [
    "modelsvmlbp=None\n",
    "modelsvmglcm=None\n",
    "modelsvmlpq=None\n",
    "\n",
    "with open(\"Models/svm_LBP_LPQ_GLCM.pkl\",mode=\"rb\") as svmglcm:\n",
    "    modelsvmglcm=pickle.load(svmglcm)"
   ]
  },
  {
   "cell_type": "code",
   "execution_count": 18,
   "metadata": {},
   "outputs": [],
   "source": [
    "ypredlpqlbp=modelsvmglcm.predict(x_lpq_lpq)"
   ]
  },
  {
   "cell_type": "code",
   "execution_count": 19,
   "metadata": {},
   "outputs": [
    {
     "name": "stdout",
     "output_type": "stream",
     "text": [
      "\tSVM (LBP + LPQ + GLCM) \n",
      "\n",
      "              precision    recall  f1-score   support\n",
      "\n",
      "           a       0.80      0.83      0.81       250\n",
      "          ad       0.87      0.85      0.86       250\n",
      "           d       0.70      0.79      0.74       250\n",
      "           f       0.78      0.82      0.80       250\n",
      "           j       0.70      0.62      0.66       250\n",
      "          jd       0.72      0.67      0.70       250\n",
      "          jt       0.80      0.76      0.78       250\n",
      "           m       0.85      0.76      0.80       250\n",
      "          md       0.87      0.81      0.84       250\n",
      "           n       0.83      0.82      0.82       250\n",
      "           o       0.78      0.73      0.76       250\n",
      "           s       0.57      0.78      0.66       199\n",
      "\n",
      "    accuracy                           0.77      2949\n",
      "   macro avg       0.77      0.77      0.77      2949\n",
      "weighted avg       0.78      0.77      0.77      2949\n",
      "\n",
      "\n"
     ]
    }
   ],
   "source": [
    "print(\"\\tSVM (LBP + LPQ + GLCM) \\n\")\n",
    "print(classification_report(y,y_pred=ypredlpqlbp)+\"\\n\")"
   ]
  }
 ],
 "metadata": {
  "kernelspec": {
   "display_name": "Python 3",
   "language": "python",
   "name": "python3"
  },
  "language_info": {
   "codemirror_mode": {
    "name": "ipython",
    "version": 3
   },
   "file_extension": ".py",
   "mimetype": "text/x-python",
   "name": "python",
   "nbconvert_exporter": "python",
   "pygments_lexer": "ipython3",
   "version": "3.10.12"
  }
 },
 "nbformat": 4,
 "nbformat_minor": 2
}
